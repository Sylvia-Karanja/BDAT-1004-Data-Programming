{
 "cells": [
  {
   "cell_type": "markdown",
   "metadata": {},
   "source": [
    "# Assignment 2 Variables, Conditions and Functions "
   ]
  },
  {
   "cell_type": "markdown",
   "metadata": {},
   "source": [
    "## Chapter 2"
   ]
  },
  {
   "cell_type": "markdown",
   "metadata": {},
   "source": [
    "### Exercise 2: Write a program that uses input to prompt a user for their name and then welcomes them."
   ]
  },
  {
   "cell_type": "code",
   "execution_count": 1,
   "metadata": {},
   "outputs": [
    {
     "name": "stdout",
     "output_type": "stream",
     "text": [
      "Enter your name:Chuck\n",
      "Hello Chuck\n"
     ]
    }
   ],
   "source": [
    "name = input('Enter your name:')\n",
    "print('Hello',name)"
   ]
  },
  {
   "cell_type": "markdown",
   "metadata": {},
   "source": [
    "### Exercise 3: Write a program to prompt the user for hours and rate per hour to compute gross pay."
   ]
  },
  {
   "cell_type": "code",
   "execution_count": 2,
   "metadata": {},
   "outputs": [
    {
     "name": "stdout",
     "output_type": "stream",
     "text": [
      "Enter Hours:35\n",
      "Enter Rate:2.75\n",
      "Pay: 96.25\n"
     ]
    }
   ],
   "source": [
    "hours = ('Enter Hours:')\n",
    "hours = input(hours)\n",
    "Rate = ('Enter Rate:')\n",
    "Rate = input(Rate)\n",
    "pay = float(hours) * float(Rate)\n",
    "print('Pay:',pay)"
   ]
  },
  {
   "cell_type": "markdown",
   "metadata": {},
   "source": [
    "### Exercise 4: Assume that we execute the following assignment statements:"
   ]
  },
  {
   "cell_type": "code",
   "execution_count": 3,
   "metadata": {},
   "outputs": [
    {
     "name": "stdout",
     "output_type": "stream",
     "text": [
      "1. 8 <class 'float'>\n",
      "2. 8.5 <class 'float'>\n",
      "3. 4.0 <class 'float'>\n",
      "4. 11 <class 'int'>\n"
     ]
    }
   ],
   "source": [
    "width = 17\n",
    "height = 12.0\n",
    "print(\"1.\",width//2,(type(width/2)))\n",
    "print(\"2.\",width/2.0,(type(width/2.0)))\n",
    "print(\"3.\",height/3, (type(height/3)))\n",
    "print(\"4.\",1+2*5, (type(1+2*5)))"
   ]
  },
  {
   "cell_type": "markdown",
   "metadata": {},
   "source": [
    "### Exercise 5: Write a program which prompts the user for a Celsius temperature, convert the temperature to Fahrenheit, and print out the\n",
    "### converted temperature."
   ]
  },
  {
   "cell_type": "code",
   "execution_count": 28,
   "metadata": {},
   "outputs": [
    {
     "name": "stdout",
     "output_type": "stream",
     "text": [
      "Celsius to Fahrenheit Calculator\n",
      "Celsius (C°)   :  30\n",
      "Fahrenheit (F°):  86.0\n"
     ]
    }
   ],
   "source": [
    "print ('Celsius to Fahrenheit Calculator')\n",
    "temperature = ('Celsius (C°)   :  ')\n",
    "temperature = input(temperature)\n",
    "Fahr = (float(temperature)*1.8+32)\n",
    "print('Fahrenheit (F°): ',Fahr)"
   ]
  },
  {
   "cell_type": "markdown",
   "metadata": {},
   "source": [
    "## Chapter 3"
   ]
  },
  {
   "cell_type": "markdown",
   "metadata": {},
   "source": [
    "### Exercise 1: Rewrite your pay computation to give the employee 1.5 times the hourly rate for hours worked above 40 hours."
   ]
  },
  {
   "cell_type": "code",
   "execution_count": 5,
   "metadata": {},
   "outputs": [
    {
     "name": "stdout",
     "output_type": "stream",
     "text": [
      "Enter Hours: 45\n",
      "Enter Rate: 10\n",
      "Pay: 475.0\n"
     ]
    }
   ],
   "source": [
    "Hours = ('Enter Hours: ')\n",
    "Hours = input(Hours)\n",
    "Rate = ('Enter Rate: ')\n",
    "Rate = input(Rate)\n",
    "if float(Hours)>40.0:\n",
    "    Pay = (40.0*float(Rate))+(float(Hours)-40.0)*float(Rate)*1.5\n",
    "    print(\"Pay:\",Pay)\n",
    "else: \n",
    "    Pay2 = float(Hours)*float(Rate)\n",
    "    print(\"Pay:\",Pay2)"
   ]
  },
  {
   "cell_type": "markdown",
   "metadata": {},
   "source": [
    "### Exercise 2: Rewrite your pay program using try and except so that your program handles non-numeric input gracefully by printing a message and exiting the program. The following shows two executions of the program:"
   ]
  },
  {
   "cell_type": "code",
   "execution_count": 11,
   "metadata": {},
   "outputs": [
    {
     "name": "stdout",
     "output_type": "stream",
     "text": [
      "Enter Hours: forty\n",
      "Enter Rate: 10\n",
      "Error, please enter numeric input\n"
     ]
    }
   ],
   "source": [
    "Hours = ('Enter Hours: ')\n",
    "Hours = input(Hours)\n",
    "Rate = ('Enter Rate: ')\n",
    "Rate = input(Rate)\n",
    "try:\n",
    "    if float(Hours)>40.0:\n",
    "        Pay = (40.0*float(Rate))+(float(Hours)-40.0)*float(Rate)*1.5\n",
    "        print(\"Pay:\",Pay)\n",
    "    else: \n",
    "        Pay2 = float(Hours)*float(Rate)\n",
    "        print(\"Pay:\",Pay2)\n",
    "except: \n",
    "    print('Error, please enter numeric input')"
   ]
  },
  {
   "cell_type": "markdown",
   "metadata": {},
   "source": [
    "### Exercise 3: Write a program to prompt for a score between 0.0 and 1.0. If the score is out of range, print an error message. If the score is between 0.0 and 1.0, print a grade using the following table:"
   ]
  },
  {
   "cell_type": "code",
   "execution_count": 7,
   "metadata": {},
   "outputs": [
    {
     "name": "stdout",
     "output_type": "stream",
     "text": [
      "Enter Score: 0.95\n",
      "A\n"
     ]
    }
   ],
   "source": [
    "Score =('Enter Score: ')\n",
    "Score = input(Score)\n",
    "try:\n",
    "    if float(Score) > 1.0:\n",
    "        print('Bad Score')\n",
    "    elif float(Score) >= 0.9:\n",
    "        print('A') \n",
    "    elif float(Score) >= 0.8:\n",
    "        print('B')\n",
    "    elif float(Score) >= 0.7:\n",
    "        print('C')\n",
    "    elif float(Score) >= 0.6:\n",
    "        print('D')\n",
    "    else:\n",
    "        float(Score) < 0.6\n",
    "        print('E')\n",
    "except:\n",
    "    print('Bad Score')"
   ]
  },
  {
   "cell_type": "markdown",
   "metadata": {},
   "source": [
    "## Chapter 4"
   ]
  },
  {
   "cell_type": "markdown",
   "metadata": {},
   "source": [
    "### Exercise 5: What will the following Python program print out? (See textbook page 54)\n",
    "### def fred():\n",
    "###     print(\"Zap\")\n",
    "### def jane():\n",
    "###     print(\"ABC\")"
   ]
  },
  {
   "cell_type": "code",
   "execution_count": 33,
   "metadata": {},
   "outputs": [
    {
     "name": "stdout",
     "output_type": "stream",
     "text": [
      "ABC\n",
      "Zap\n",
      "ABC\n"
     ]
    }
   ],
   "source": [
    "def fred():\n",
    "    print(\"Zap\")\n",
    "def jane():\n",
    "    print(\"ABC\")\n",
    "\n",
    "jane()\n",
    "fred()\n",
    "jane()"
   ]
  },
  {
   "cell_type": "markdown",
   "metadata": {},
   "source": [
    "### Exercise 6: Rewrite your pay computation with time-and-a-half for over-time and create a function called computepay which takes two parameters (hours and rate)."
   ]
  },
  {
   "cell_type": "code",
   "execution_count": 9,
   "metadata": {},
   "outputs": [
    {
     "name": "stdout",
     "output_type": "stream",
     "text": [
      "Enter Hours: 45\n",
      "Enter Rate: 10\n",
      "Pay: 475.0\n"
     ]
    }
   ],
   "source": [
    "#defining function\n",
    "def computepay():\n",
    "    try:\n",
    "        if float(Hours)>40.0:\n",
    "            Pay = (40.0*float(Rate))+(float(Hours)-40.0)*float(Rate)*1.5\n",
    "            print(\"Pay:\",Pay)\n",
    "        else: \n",
    "            Pay = float(Hours)*float(Rate)\n",
    "            print(\"Pay:\",Pay2)\n",
    "    except: \n",
    "        print('Please enter a number')\n",
    "\n",
    "#executing function\n",
    "Hours = ('Enter Hours: ')\n",
    "Hours = input(Hours)\n",
    "Rate = ('Enter Rate: ')\n",
    "Rate = input(Rate)\n",
    "computepay()"
   ]
  },
  {
   "cell_type": "markdown",
   "metadata": {},
   "source": [
    "### Exercise 7: Rewrite the grade program from the previous chapter using a function called computegrade that takes a score as its parameter and returns a grade as a string."
   ]
  },
  {
   "cell_type": "code",
   "execution_count": 10,
   "metadata": {},
   "outputs": [
    {
     "name": "stdout",
     "output_type": "stream",
     "text": [
      "Enter Score: 0.85\n",
      "B\n"
     ]
    }
   ],
   "source": [
    "#defining function\n",
    "def compute_grade():\n",
    "    try:\n",
    "        if float(Score) > 1.0:\n",
    "            print('Bad Score')\n",
    "        elif float(Score) >= 0.9:\n",
    "            print('A') \n",
    "        elif float(Score) >= 0.8:\n",
    "            print('B')\n",
    "        elif float(Score) >= 0.7:\n",
    "            print('C')\n",
    "        elif float(Score) >= 0.6:\n",
    "            print('D')\n",
    "        else:\n",
    "            float(Score) < 0.6\n",
    "            print('E')\n",
    "    except:\n",
    "        print('Bad Score')\n",
    "    \n",
    "#executing function\n",
    "Score =('Enter Score: ')\n",
    "Score = input(Score)\n",
    "compute_grade()"
   ]
  }
 ],
 "metadata": {
  "kernelspec": {
   "display_name": "Python 3",
   "language": "python",
   "name": "python3"
  },
  "language_info": {
   "codemirror_mode": {
    "name": "ipython",
    "version": 3
   },
   "file_extension": ".py",
   "mimetype": "text/x-python",
   "name": "python",
   "nbconvert_exporter": "python",
   "pygments_lexer": "ipython3",
   "version": "3.7.3"
  }
 },
 "nbformat": 4,
 "nbformat_minor": 2
}
